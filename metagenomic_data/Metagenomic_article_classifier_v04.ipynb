{
 "cells": [
  {
   "cell_type": "code",
   "execution_count": 1,
   "id": "initial_id",
   "metadata": {
    "ExecuteTime": {
     "end_time": "2024-11-18T17:41:23.372790Z",
     "start_time": "2024-11-18T17:41:17.882443Z"
    }
   },
   "outputs": [
    {
     "name": "stdout",
     "output_type": "stream",
     "text": [
      "Loaded DataFrame shape: (219802, 3)\n",
      "Label distribution after balancing:\n",
      "accession_type\n",
      "other           210302\n",
      "metagenomics      9500\n",
      "Name: count, dtype: int64\n",
      "\n",
      "Sample data:\n",
      "                                            abstract accession_type  label\n",
      "0  Down-regulation of the Drosophila ribosomal pr...          other      1\n",
      "1  Human chromosomal region 1q24 encodes two clon...          other      1\n",
      "2  A bovine plasminogen activator was purified fr...          other      1\n",
      "3  Staphylococcus aureus and Staphylococcus epide...          other      1\n",
      "4  Kinetic analysis of two mutations within Pseud...          other      1\n"
     ]
    },
    {
     "data": {
      "text/html": [
       "<div>\n",
       "<style scoped>\n",
       "    .dataframe tbody tr th:only-of-type {\n",
       "        vertical-align: middle;\n",
       "    }\n",
       "\n",
       "    .dataframe tbody tr th {\n",
       "        vertical-align: top;\n",
       "    }\n",
       "\n",
       "    .dataframe thead th {\n",
       "        text-align: right;\n",
       "    }\n",
       "</style>\n",
       "<table border=\"1\" class=\"dataframe\">\n",
       "  <thead>\n",
       "    <tr style=\"text-align: right;\">\n",
       "      <th></th>\n",
       "      <th>abstract</th>\n",
       "      <th>class_label</th>\n",
       "      <th>label</th>\n",
       "    </tr>\n",
       "  </thead>\n",
       "  <tbody>\n",
       "    <tr>\n",
       "      <th>0</th>\n",
       "      <td>Down-regulation of the Drosophila ribosomal pr...</td>\n",
       "      <td>other</td>\n",
       "      <td>1</td>\n",
       "    </tr>\n",
       "    <tr>\n",
       "      <th>1</th>\n",
       "      <td>Human chromosomal region 1q24 encodes two clon...</td>\n",
       "      <td>other</td>\n",
       "      <td>1</td>\n",
       "    </tr>\n",
       "    <tr>\n",
       "      <th>2</th>\n",
       "      <td>A bovine plasminogen activator was purified fr...</td>\n",
       "      <td>other</td>\n",
       "      <td>1</td>\n",
       "    </tr>\n",
       "    <tr>\n",
       "      <th>3</th>\n",
       "      <td>Staphylococcus aureus and Staphylococcus epide...</td>\n",
       "      <td>other</td>\n",
       "      <td>1</td>\n",
       "    </tr>\n",
       "    <tr>\n",
       "      <th>4</th>\n",
       "      <td>Kinetic analysis of two mutations within Pseud...</td>\n",
       "      <td>other</td>\n",
       "      <td>1</td>\n",
       "    </tr>\n",
       "    <tr>\n",
       "      <th>...</th>\n",
       "      <td>...</td>\n",
       "      <td>...</td>\n",
       "      <td>...</td>\n",
       "    </tr>\n",
       "    <tr>\n",
       "      <th>219797</th>\n",
       "      <td>Kaposi's sarcoma-associated herpesvirus (KSHV)...</td>\n",
       "      <td>other</td>\n",
       "      <td>1</td>\n",
       "    </tr>\n",
       "    <tr>\n",
       "      <th>219798</th>\n",
       "      <td>The pathway of autotrophic CO2 fixation was st...</td>\n",
       "      <td>other</td>\n",
       "      <td>1</td>\n",
       "    </tr>\n",
       "    <tr>\n",
       "      <th>219799</th>\n",
       "      <td>The mannose-sensitive hemagglutinin (MSHA) of ...</td>\n",
       "      <td>other</td>\n",
       "      <td>1</td>\n",
       "    </tr>\n",
       "    <tr>\n",
       "      <th>219800</th>\n",
       "      <td>Pseudomonas putida GJ31 contains an unusual ca...</td>\n",
       "      <td>other</td>\n",
       "      <td>1</td>\n",
       "    </tr>\n",
       "    <tr>\n",
       "      <th>219801</th>\n",
       "      <td>Most isolates of Salmonella enterica serovar T...</td>\n",
       "      <td>other</td>\n",
       "      <td>1</td>\n",
       "    </tr>\n",
       "  </tbody>\n",
       "</table>\n",
       "<p>219802 rows × 3 columns</p>\n",
       "</div>"
      ],
      "text/plain": [
       "                                                 abstract class_label  label\n",
       "0       Down-regulation of the Drosophila ribosomal pr...       other      1\n",
       "1       Human chromosomal region 1q24 encodes two clon...       other      1\n",
       "2       A bovine plasminogen activator was purified fr...       other      1\n",
       "3       Staphylococcus aureus and Staphylococcus epide...       other      1\n",
       "4       Kinetic analysis of two mutations within Pseud...       other      1\n",
       "...                                                   ...         ...    ...\n",
       "219797  Kaposi's sarcoma-associated herpesvirus (KSHV)...       other      1\n",
       "219798  The pathway of autotrophic CO2 fixation was st...       other      1\n",
       "219799  The mannose-sensitive hemagglutinin (MSHA) of ...       other      1\n",
       "219800  Pseudomonas putida GJ31 contains an unusual ca...       other      1\n",
       "219801  Most isolates of Salmonella enterica serovar T...       other      1\n",
       "\n",
       "[219802 rows x 3 columns]"
      ]
     },
     "execution_count": 1,
     "metadata": {},
     "output_type": "execute_result"
    }
   ],
   "source": [
    "from sklearn.preprocessing import LabelEncoder\n",
    "import pandas as pd\n",
    "import gzip\n",
    "import json\n",
    "from matplotlib import pyplot as plt\n",
    "\n",
    "def load_jsonlines_to_df(file_path):\n",
    "    \"\"\"\n",
    "    Loads a gzipped JSON Lines file into a Pandas DataFrame,\n",
    "    processes the 'accession_type' to ensure it's a single string label,\n",
    "    balances the dataset by sampling up to 10000 instances per class,\n",
    "    and selects only the specified columns.\n",
    "\n",
    "    :param file_path: Path to the .jsonl.gz file.\n",
    "    :return: A balanced Pandas DataFrame with selected columns and a LabelEncoder.\n",
    "    \"\"\"\n",
    "    with gzip.open(file_path, 'rt', encoding='utf-8') as gzfile:\n",
    "        data = [json.loads(line) for line in gzfile]\n",
    "    \n",
    "    columns_to_keep = ['abstract', 'accession_type']\n",
    "    \n",
    "    # Create DataFrame\n",
    "    df = pd.DataFrame(data)\n",
    "    df = df[columns_to_keep]\n",
    "    \n",
    "    # Ensure 'accession_type' exists\n",
    "    if 'accession_type' not in df.columns:\n",
    "        raise KeyError(\"Column 'accession_type' not found in the dataset.\")\n",
    "    \n",
    "    # Process 'accession_type' to ensure it's a single string\n",
    "    df['accession_type'] = df['accession_type'].apply(\n",
    "        lambda labels: 'metagenomics' if 'metagenomics' in labels else 'other'\n",
    "    )\n",
    "    \n",
    "    # Encode 'accession_type' into 'label'\n",
    "    label_encoder = LabelEncoder()\n",
    "    df['label'] = label_encoder.fit_transform(df['accession_type'])\n",
    "    \n",
    "#     # Balance the dataset: sample up to 10000 instances per class\n",
    "#     df_balanced = df.groupby('accession_type').apply(\n",
    "#         lambda x: x.sample(n=min(500, len(x)), random_state=0)\n",
    "#     ).reset_index(drop=True)\n",
    "\n",
    "    df_balanced = df.copy()\n",
    "    # Diagnostic Checks\n",
    "    print(f\"Loaded DataFrame shape: {df_balanced.shape}\")\n",
    "    print(\"Label distribution after balancing:\")\n",
    "    print(df_balanced['accession_type'].value_counts())\n",
    "    print(\"\\nSample data:\")\n",
    "    print(df_balanced.head())\n",
    "    \n",
    "    df_balanced.rename(columns={'accession_type': 'class_label'}, inplace=True)\n",
    "    return df_balanced, label_encoder\n",
    "\n",
    "# File paths\n",
    "file_path = '/nfs/production/literature/santosh_tirunagari/BACKUP/work/github/metagenomics/notebooks/final_multi_label_trainingset.jsonl.gz'\n",
    "\n",
    "data, label_encoder = load_jsonlines_to_df(file_path)\n",
    "# Sample size\n",
    "# n = 10000  # Set your desired sample size\n",
    "# \n",
    "data\n",
    "# \n",
    "# data"
   ]
  },
  {
   "cell_type": "code",
   "execution_count": 2,
   "id": "bdcaf7c7",
   "metadata": {},
   "outputs": [
    {
     "name": "stdout",
     "output_type": "stream",
     "text": [
      "Using device: cuda\n"
     ]
    }
   ],
   "source": [
    "import torch\n",
    "\n",
    "# Check for GPU availability\n",
    "device = torch.device('cuda' if torch.cuda.is_available() else 'cpu')\n",
    "print(f\"Using device: {device}\")\n"
   ]
  },
  {
   "cell_type": "code",
   "execution_count": 3,
   "id": "e0a673d2",
   "metadata": {},
   "outputs": [
    {
     "name": "stderr",
     "output_type": "stream",
     "text": [
      "/nfs/production/literature/santosh_tirunagari/transformers_env/lib/python3.10/site-packages/tqdm/auto.py:21: TqdmWarning: IProgress not found. Please update jupyter and ipywidgets. See https://ipywidgets.readthedocs.io/en/stable/user_install.html\n",
      "  from .autonotebook import tqdm as notebook_tqdm\n",
      "/nfs/production/literature/santosh_tirunagari/transformers_env/lib/python3.10/site-packages/huggingface_hub/file_download.py:1150: FutureWarning: `resume_download` is deprecated and will be removed in version 1.0.0. Downloads always resume when possible. If you want to force a new download, use `force_download=True`.\n",
      "  warnings.warn(\n",
      "/nfs/production/literature/santosh_tirunagari/transformers_env/lib/python3.10/site-packages/huggingface_hub/file_download.py:1150: FutureWarning: `resume_download` is deprecated and will be removed in version 1.0.0. Downloads always resume when possible. If you want to force a new download, use `force_download=True`.\n",
      "  warnings.warn(\n"
     ]
    }
   ],
   "source": [
    "import torch\n",
    "import torch.nn.functional as F\n",
    "from tqdm import tqdm\n",
    "from transformers import AutoTokenizer, AutoModel\n",
    "\n",
    "# Initialize tokenizer and model\n",
    "tokenizer = AutoTokenizer.from_pretrained('sentence-transformers/all-MiniLM-L6-v2')\n",
    "model = AutoModel.from_pretrained('sentence-transformers/all-MiniLM-L6-v2')\n",
    "device = torch.device('cuda' if torch.cuda.is_available() else 'cpu')\n",
    "model.to(device)\n",
    "\n",
    "# Mean Pooling - Take attention mask into account for correct averaging\n",
    "def mean_pooling(model_output, attention_mask):\n",
    "    token_embeddings = model_output[0]  # First element: token embeddings\n",
    "    input_mask_expanded = attention_mask.unsqueeze(-1).expand(token_embeddings.size()).float()\n",
    "    return torch.sum(token_embeddings * input_mask_expanded, 1) / torch.clamp(input_mask_expanded.sum(1), min=1e-9)\n",
    "\n",
    "# Compute embeddings for a list of sentences\n",
    "def compute_embeddings(sentences, batch_size=32):\n",
    "    model.eval()  # Set model to evaluation mode\n",
    "    sentence_embeddings = []\n",
    "\n",
    "    for i in tqdm(range(0, len(sentences), batch_size), desc=\"Processing Batches\"):\n",
    "        # Process a batch of sentences\n",
    "        batch = sentences[i:i + batch_size]\n",
    "        encoded_input = tokenizer(batch, padding=True, truncation=True, return_tensors='pt').to(device)\n",
    "        \n",
    "        with torch.no_grad():\n",
    "            model_output = model(**encoded_input)\n",
    "        \n",
    "        # Mean pooling to get sentence embeddings\n",
    "        batch_embeddings = mean_pooling(model_output, encoded_input['attention_mask'])\n",
    "        \n",
    "        # Normalize embeddings\n",
    "        batch_embeddings = F.normalize(batch_embeddings, p=2, dim=1)\n",
    "        sentence_embeddings.extend(batch_embeddings.cpu().numpy())  # Move to CPU and convert to NumPy arrays\n",
    "    \n",
    "    return sentence_embeddings\n",
    "\n",
    "# # Example usage\n",
    "# sentences = [\"This is a test sentence.\", \"Here is another one.\"]\n",
    "# embeddings = compute_embeddings(sentences)\n",
    "# print(f\"Computed {len(embeddings)} embeddings of dimension {embeddings[0].shape}\")\n",
    "\n"
   ]
  },
  {
   "cell_type": "code",
   "execution_count": 4,
   "id": "7a4a5f12",
   "metadata": {},
   "outputs": [
    {
     "name": "stderr",
     "output_type": "stream",
     "text": [
      "Processing Batches: 100%|███████████████████████████████████████████████████████████████████████████████████████| 3435/3435 [06:47<00:00,  8.42it/s]\n"
     ]
    }
   ],
   "source": [
    "sentences = data['abstract'].tolist()\n",
    "embeddings = compute_embeddings(sentences, batch_size=64)  # Adjust batch size as needed\n",
    "\n",
    "# Assign embeddings to the DataFrame\n",
    "data['embeddings'] = embeddings  # Each row gets a 1D array (shape: (768,))\n",
    "\n"
   ]
  },
  {
   "cell_type": "code",
   "execution_count": 5,
   "id": "6db03bfe",
   "metadata": {},
   "outputs": [
    {
     "name": "stdout",
     "output_type": "stream",
     "text": [
      "                                            abstract   class_label\n",
      "0  In the Zambales ophiolite range, terrestrial s...  metagenomics\n",
      "1  Understanding environment-community relationsh...  metagenomics\n",
      "2  Dental caries is a highly prevalent oral disea...  metagenomics\n",
      "3  Seafloor sediments cover the majority of plane...  metagenomics\n",
      "4  Previous studies have reported that gut microb...  metagenomics\n",
      "Total abstracts: 2180\n"
     ]
    }
   ],
   "source": [
    "import os\n",
    "import pandas as pd\n",
    "\n",
    "def load_abstracts_from_folders(folder_1_path, folder_2_path):\n",
    "    \"\"\"\n",
    "    Loads abstracts from two folders into a pandas DataFrame.\n",
    "\n",
    "    Parameters:\n",
    "        folder_1_path (str): Path to the folder containing metagenomics abstracts.\n",
    "        folder_2_path (str): Path to the folder containing other abstracts.\n",
    "\n",
    "    Returns:\n",
    "        pd.DataFrame: A DataFrame containing abstracts and their class labels.\n",
    "    \"\"\"\n",
    "    abstracts = []\n",
    "    class_labels = []\n",
    "\n",
    "    # Load abstracts from folder_1 (metagenomics)\n",
    "    for file_name in os.listdir(folder_1_path):\n",
    "        file_path = os.path.join(folder_1_path, file_name)\n",
    "        if os.path.isfile(file_path) and file_name.endswith('.txt'):\n",
    "            with open(file_path, 'r', encoding='utf-8') as file:\n",
    "                abstracts.append(file.read())\n",
    "                class_labels.append('metagenomics')\n",
    "\n",
    "    # Load abstracts from folder_2 (other)\n",
    "    for file_name in os.listdir(folder_2_path):\n",
    "        file_path = os.path.join(folder_2_path, file_name)\n",
    "        if os.path.isfile(file_path) and file_name.endswith('.txt'):\n",
    "            with open(file_path, 'r', encoding='utf-8') as file:\n",
    "                abstracts.append(file.read())\n",
    "                class_labels.append('other')\n",
    "\n",
    "    # Create DataFrame\n",
    "    data = pd.DataFrame({\n",
    "        'abstract': abstracts,\n",
    "        'class_label': class_labels\n",
    "    })\n",
    "\n",
    "    return data\n",
    "\n",
    "# Paths to folders\n",
    "folder_1_path = \"/nfs/production/literature/santosh_tirunagari/mgnify_abstracts/txt/abs/\"  # Update with the actual path to folder_1\n",
    "folder_2_path = \"/nfs/production/literature/santosh_tirunagari/txt/abs\"  # Update with the actual path to folder_2\n",
    "\n",
    "# Load abstracts into a DataFrame\n",
    "data_met = load_abstracts_from_folders(folder_1_path, folder_2_path)\n",
    "\n",
    "# Check the structure of the DataFrame\n",
    "print(data_met.head())\n",
    "print(f\"Total abstracts: {data_met.shape[0]}\")\n"
   ]
  },
  {
   "cell_type": "code",
   "execution_count": 7,
   "id": "bdbf602f",
   "metadata": {},
   "outputs": [
    {
     "name": "stderr",
     "output_type": "stream",
     "text": [
      "Processing Batches: 100%|███████████████████████████████████████████████████████████████████████████████████████████| 69/69 [00:04<00:00, 15.66it/s]\n"
     ]
    }
   ],
   "source": [
    "met_sentences = data_met['abstract'].tolist()\n",
    "met_embeddings = compute_embeddings(met_sentences, batch_size=32)  # Adjust batch size as needed\n",
    "\n",
    "# Assign embeddings to the DataFrame\n",
    "data_met['embeddings'] = met_embeddings  # Each row gets a 1D array (shape: (768,))\n",
    "\n"
   ]
  },
  {
   "cell_type": "code",
   "execution_count": 8,
   "id": "4e376c79",
   "metadata": {},
   "outputs": [
    {
     "name": "stderr",
     "output_type": "stream",
     "text": [
      "/nfs/production/literature/santosh_tirunagari/transformers_env/lib/python3.10/site-packages/sklearn/cluster/_kmeans.py:1416: FutureWarning: The default value of `n_init` will change from 10 to 'auto' in 1.4. Set the value of `n_init` explicitly to suppress the warning\n",
      "  super()._check_params_vs_input(X, default_n_init=10)\n"
     ]
    },
    {
     "name": "stdout",
     "output_type": "stream",
     "text": [
      "Metagenomics centroids shape: (20, 384)\n"
     ]
    }
   ],
   "source": [
    "from sklearn.cluster import KMeans\n",
    "import numpy as np\n",
    "\n",
    "# Extract embeddings from the `data_met` DataFrame\n",
    "metagenomics_embeddings = np.stack(data_met['embeddings'].values)\n",
    "\n",
    "# Apply K-Means to create centroids for metagenomics\n",
    "n_clusters_metagenomics = 20  # Choose an appropriate number of clusters\n",
    "kmeans_metagenomics = KMeans(n_clusters=n_clusters_metagenomics, random_state=42)\n",
    "kmeans_metagenomics.fit(metagenomics_embeddings)\n",
    "\n",
    "# Centroids for metagenomics\n",
    "metagenomics_centroids = kmeans_metagenomics.cluster_centers_\n",
    "print(f\"Metagenomics centroids shape: {metagenomics_centroids.shape}\")\n"
   ]
  },
  {
   "cell_type": "code",
   "execution_count": 9,
   "id": "aa94ef5c",
   "metadata": {},
   "outputs": [
    {
     "name": "stderr",
     "output_type": "stream",
     "text": [
      "Computing Similarity Scores: 100%|████████████████████████████████████████████████████████████████████████| 219802/219802 [01:08<00:00, 3221.25it/s]\n"
     ]
    }
   ],
   "source": [
    "from sklearn.metrics.pairwise import cosine_similarity\n",
    "from tqdm import tqdm\n",
    "\n",
    "tqdm.pandas(desc=\"Computing Similarity Scores\")\n",
    "\n",
    "# Compute maximum similarity to metagenomics centroids\n",
    "data['similarity_to_metagenomics'] = data['embeddings'].progress_apply(\n",
    "    lambda x: cosine_similarity([x], metagenomics_centroids).max(axis=1)[0]\n",
    ")\n"
   ]
  },
  {
   "cell_type": "code",
   "execution_count": 36,
   "id": "5b661ded",
   "metadata": {},
   "outputs": [
    {
     "name": "stdout",
     "output_type": "stream",
     "text": [
      "Metagenomics Samples: 6498\n",
      "Other Samples: 115248\n",
      "Overlapping Samples: 98056\n"
     ]
    }
   ],
   "source": [
    "# Define thresholds\n",
    "threshold_metagenomics = 0.7\n",
    "threshold_other = 0.4\n",
    "\n",
    "# Classify samples based on similarity scores\n",
    "data['predicted_class'] = 'overlap'  # Default category\n",
    "data.loc[data['similarity_to_metagenomics'] >= threshold_metagenomics, 'predicted_class'] = 'metagenomics'\n",
    "data.loc[data['similarity_to_metagenomics'] <= threshold_other, 'predicted_class'] = 'other'\n",
    "\n",
    "# Filter datasets\n",
    "filtered_metagenomics = data[data['predicted_class'] == 'metagenomics']\n",
    "filtered_other = data[data['predicted_class'] == 'other']\n",
    "overlapping_samples = data[data['predicted_class'] == 'overlap']\n",
    "\n",
    "print(f\"Metagenomics Samples: {len(filtered_metagenomics)}\")\n",
    "print(f\"Other Samples: {len(filtered_other)}\")\n",
    "print(f\"Overlapping Samples: {len(overlapping_samples)}\")\n"
   ]
  },
  {
   "cell_type": "code",
   "execution_count": 37,
   "id": "51857077f603f6b6",
   "metadata": {
    "ExecuteTime": {
     "end_time": "2024-11-18T18:57:38.459185Z",
     "start_time": "2024-11-18T18:55:50.133871Z"
    }
   },
   "outputs": [
    {
     "data": {
      "image/png": "[encoded data removed]",
      "text/plain": [
       "<Figure size 1000x600 with 1 Axes>"
      ]
     },
     "metadata": {},
     "output_type": "display_data"
    }
   ],
   "source": [
    "import seaborn as sns\n",
    "import matplotlib.pyplot as plt\n",
    "\n",
    "# KDE plot of similarity scores by original and predicted classes\n",
    "plt.figure(figsize=(10, 6))\n",
    "sns.kdeplot(data=data, x='similarity_to_metagenomics', hue='class_label', fill=True, alpha=0.4)\n",
    "plt.title('Similarity Scores by Original Class Labels')\n",
    "plt.xlabel('Similarity to Metagenomics Centroids')\n",
    "plt.ylabel('Density')\n",
    "plt.show()\n"
   ]
  },
  {
   "cell_type": "code",
   "execution_count": 38,
   "id": "e64129b2",
   "metadata": {},
   "outputs": [
    {
     "data": {
      "image/png": "[encoded data removed]",
      "text/plain": [
       "<Figure size 1000x600 with 1 Axes>"
      ]
     },
     "metadata": {},
     "output_type": "display_data"
    }
   ],
   "source": [
    "# KDE plot for predicted classes\n",
    "plt.figure(figsize=(10, 6))\n",
    "sns.kdeplot(data=data, x='similarity_to_metagenomics', hue='predicted_class', fill=True, alpha=0.4)\n",
    "plt.title('Similarity Scores by Predicted Classes')\n",
    "plt.xlabel('Similarity to Metagenomics Centroids')\n",
    "plt.ylabel('Density')\n",
    "plt.show()"
   ]
  },
  {
   "cell_type": "code",
   "execution_count": 39,
   "id": "eafac1ad",
   "metadata": {},
   "outputs": [
    {
     "name": "stdout",
     "output_type": "stream",
     "text": [
      "    class_label predicted_class   count\n",
      "0  metagenomics    metagenomics     934\n",
      "1  metagenomics           other    4870\n",
      "2  metagenomics         overlap    3696\n",
      "3         other    metagenomics    5564\n",
      "4         other           other  110378\n",
      "5         other         overlap   94360\n"
     ]
    }
   ],
   "source": [
    "# Compare the original and predicted labels\n",
    "comparison = data.groupby(['class_label', 'predicted_class']).size().reset_index(name='count')\n",
    "print(comparison)\n"
   ]
  },
  {
   "cell_type": "code",
   "execution_count": 40,
   "id": "32fa33c8",
   "metadata": {},
   "outputs": [
    {
     "name": "stdout",
     "output_type": "stream",
     "text": [
      "Training set size: 97396\n",
      "Testing set size: 24350\n",
      "Class distribution in training set: [ 5198 92198]\n",
      "Class distribution in testing set: [ 1300 23050]\n"
     ]
    }
   ],
   "source": [
    "from sklearn.preprocessing import LabelEncoder\n",
    "from sklearn.model_selection import train_test_split\n",
    "import numpy as np\n",
    "\n",
    "# Combine filtered datasets\n",
    "filtered_data = pd.concat([filtered_metagenomics, filtered_other], ignore_index=True)\n",
    "\n",
    "# Use LabelEncoder to encode the predicted class\n",
    "label_encoder = LabelEncoder()\n",
    "filtered_data['class_label'] = label_encoder.fit_transform(filtered_data['predicted_class'])\n",
    "\n",
    "\n",
    "# Convert embeddings to a NumPy array\n",
    "X = np.stack(filtered_data['embeddings'].values)  # Features\n",
    "y = filtered_data['class_label'].values                 # Labels\n",
    "\n",
    "\n",
    "# Split the data into training and testing sets\n",
    "X_train, X_test, y_train, y_test = train_test_split(X, y, test_size=0.2, random_state=42, stratify=y)\n",
    "\n",
    "\n",
    "\n",
    "print(f\"Training set size: {len(X_train)}\")\n",
    "print(f\"Testing set size: {len(X_test)}\")\n",
    "print(f\"Class distribution in training set: {np.bincount(y_train)}\")\n",
    "print(f\"Class distribution in testing set: {np.bincount(y_test)}\")"
   ]
  },
  {
   "cell_type": "code",
   "execution_count": 41,
   "id": "9d1ce45a",
   "metadata": {},
   "outputs": [
    {
     "name": "stdout",
     "output_type": "stream",
     "text": [
      "              precision    recall  f1-score   support\n",
      "\n",
      "metagenomics       0.99      1.00      1.00      1300\n",
      "       other       1.00      1.00      1.00     23050\n",
      "\n",
      "    accuracy                           1.00     24350\n",
      "   macro avg       1.00      1.00      1.00     24350\n",
      "weighted avg       1.00      1.00      1.00     24350\n",
      "\n"
     ]
    }
   ],
   "source": [
    "from sklearn.linear_model import LogisticRegression\n",
    "from sklearn.metrics import classification_report\n",
    "\n",
    "# Train the Logistic Regression classifier\n",
    "clf = LogisticRegression(max_iter=1000, class_weight='balanced', random_state=42)\n",
    "clf.fit(X_train, y_train)\n",
    "\n",
    "# Predict on the test set\n",
    "y_pred = clf.predict(X_test)\n",
    "\n",
    "# Evaluate the classifier\n",
    "print(classification_report(y_test, y_pred, target_names=label_encoder.classes_))\n"
   ]
  },
  {
   "cell_type": "code",
   "execution_count": 17,
   "id": "084db510",
   "metadata": {},
   "outputs": [
    {
     "name": "stdout",
     "output_type": "stream",
     "text": [
      "              precision    recall  f1-score   support\n",
      "\n",
      "metagenomics       1.00      0.99      1.00       557\n",
      "       other       1.00      1.00      1.00     10393\n",
      "\n",
      "    accuracy                           1.00     10950\n",
      "   macro avg       1.00      1.00      1.00     10950\n",
      "weighted avg       1.00      1.00      1.00     10950\n",
      "\n"
     ]
    }
   ],
   "source": [
    "from sklearn.ensemble import RandomForestClassifier\n",
    "\n",
    "# Train a Random Forest classifier\n",
    "clf = RandomForestClassifier(n_estimators=100, class_weight='balanced', random_state=42)\n",
    "clf.fit(X_train, y_train)\n",
    "\n",
    "# Predict on the test set\n",
    "y_pred = clf.predict(X_test)\n",
    "\n",
    "# Evaluate the classifier\n",
    "print(classification_report(y_test, y_pred, target_names=label_encoder.classes_))\n"
   ]
  },
  {
   "cell_type": "code",
   "execution_count": 42,
   "id": "cba5c92a",
   "metadata": {},
   "outputs": [
    {
     "name": "stdout",
     "output_type": "stream",
     "text": [
      "Artifacts saved in separate folders:\n",
      "Hugging Face Model: /nfs/production/literature/santosh_tirunagari/metagenomics_ner_model_training/hf_model\n",
      "Hugging Face Tokenizer: /nfs/production/literature/santosh_tirunagari/metagenomics_ner_model_training/hf_tokenizer\n",
      "Label Encoder: /nfs/production/literature/santosh_tirunagari/metagenomics_ner_model_training/label_encoder\n",
      "Logistic Regression Classifier: /nfs/production/literature/santosh_tirunagari/metagenomics_ner_model_training/logistic_regression\n"
     ]
    }
   ],
   "source": [
    "import os\n",
    "import pickle\n",
    "from transformers import AutoModel, AutoTokenizer\n",
    "\n",
    "# Define the base folder path to save artifacts\n",
    "base_path = \"/nfs/production/literature/santosh_tirunagari/metagenomics_ner_model_training\"\n",
    "os.makedirs(base_path, exist_ok=True)\n",
    "\n",
    "# Create separate folders for each artifact type\n",
    "model_folder = os.path.join(base_path, \"hf_model\")\n",
    "tokenizer_folder = os.path.join(base_path, \"hf_tokenizer\")\n",
    "label_encoder_folder = os.path.join(base_path, \"label_encoder\")\n",
    "logreg_folder = os.path.join(base_path, \"logistic_regression\")\n",
    "\n",
    "os.makedirs(model_folder, exist_ok=True)\n",
    "os.makedirs(tokenizer_folder, exist_ok=True)\n",
    "os.makedirs(label_encoder_folder, exist_ok=True)\n",
    "os.makedirs(logreg_folder, exist_ok=True)\n",
    "\n",
    "# Save the Hugging Face model and tokenizer\n",
    "model_name = 'all-MiniLM-L6-v2'  # Replace with your model name\n",
    "model.save_pretrained(model_folder)\n",
    "tokenizer.save_pretrained(tokenizer_folder)\n",
    "\n",
    "# Save the LabelEncoder\n",
    "label_encoder_path = os.path.join(label_encoder_folder, \"label_encoder.pkl\")\n",
    "with open(label_encoder_path, 'wb') as f:\n",
    "    pickle.dump(label_encoder, f)\n",
    "\n",
    "# Save the Logistic Regression classifier\n",
    "logreg_path = os.path.join(logreg_folder, \"logistic_regression.pkl\")\n",
    "with open(logreg_path, 'wb') as f:\n",
    "    pickle.dump(clf, f)\n",
    "\n",
    "print(\"Artifacts saved in separate folders:\")\n",
    "print(f\"Hugging Face Model: {model_folder}\")\n",
    "print(f\"Hugging Face Tokenizer: {tokenizer_folder}\")\n",
    "print(f\"Label Encoder: {label_encoder_folder}\")\n",
    "print(f\"Logistic Regression Classifier: {logreg_folder}\")\n"
   ]
  },
  {
   "cell_type": "code",
   "execution_count": 43,
   "id": "140b291a",
   "metadata": {},
   "outputs": [],
   "source": [
    "import pickle\n",
    "from transformers import AutoModel, AutoTokenizer\n",
    "import torch.nn.functional as F\n",
    "import torch\n",
    "\n",
    "# Global variables for models and artifacts\n",
    "model = None\n",
    "tokenizer = None\n",
    "label_encoder = None\n",
    "clf = None\n",
    "\n",
    "# Load all models and artifacts once\n",
    "def load_artifacts(base_path):\n",
    "    \"\"\"\n",
    "    Load all necessary models and artifacts into memory.\n",
    "\n",
    "    Args:\n",
    "        base_path (str): Path to the folder containing saved models and artifacts.\n",
    "    \"\"\"\n",
    "    global model, tokenizer, label_encoder, clf\n",
    "\n",
    "    # Paths to each folder\n",
    "    model_folder = os.path.join(base_path, \"hf_model\")\n",
    "    tokenizer_folder = os.path.join(base_path, \"hf_tokenizer\")\n",
    "    label_encoder_path = os.path.join(base_path, \"label_encoder\", \"label_encoder.pkl\")\n",
    "    logreg_path = os.path.join(base_path, \"logistic_regression\", \"logistic_regression.pkl\")\n",
    "\n",
    "    # Load Hugging Face model and tokenizer\n",
    "    model = AutoModel.from_pretrained(model_folder)\n",
    "    tokenizer = AutoTokenizer.from_pretrained(tokenizer_folder)\n",
    "\n",
    "    # Load LabelEncoder\n",
    "    with open(label_encoder_path, 'rb') as f:\n",
    "        label_encoder = pickle.load(f)\n",
    "\n",
    "    # Load Logistic Regression classifier\n",
    "    with open(logreg_path, 'rb') as f:\n",
    "        clf = pickle.load(f)\n",
    "\n",
    "    print(\"Artifacts loaded successfully.\")\n"
   ]
  },
  {
   "cell_type": "code",
   "execution_count": 44,
   "id": "74932ded",
   "metadata": {},
   "outputs": [
    {
     "name": "stdout",
     "output_type": "stream",
     "text": [
      "Artifacts loaded successfully.\n"
     ]
    }
   ],
   "source": [
    "base_path = \"/nfs/production/literature/santosh_tirunagari/metagenomics_ner_model_training\"\n",
    "load_artifacts(base_path)\n"
   ]
  },
  {
   "cell_type": "code",
   "execution_count": 45,
   "id": "f2c4378e",
   "metadata": {},
   "outputs": [],
   "source": [
    "def mean_pooling(model_output, attention_mask):\n",
    "    \"\"\"\n",
    "    Mean pooling function that takes attention masks into account.\n",
    "    \"\"\"\n",
    "    token_embeddings = model_output[0]  # First element: token embeddings\n",
    "    input_mask_expanded = attention_mask.unsqueeze(-1).expand(token_embeddings.size()).float()\n",
    "    return torch.sum(token_embeddings * input_mask_expanded, 1) / torch.clamp(input_mask_expanded.sum(1), min=1e-9)\n",
    "\n",
    "def classify_abstract(abstract):\n",
    "    \"\"\"\n",
    "    Classifies an abstract using preloaded models and artifacts.\n",
    "\n",
    "    Args:\n",
    "        abstract (str): The abstract to classify.\n",
    "\n",
    "    Returns:\n",
    "        dict: A dictionary with predicted class label and probabilities.\n",
    "    \"\"\"\n",
    "    global model, tokenizer, label_encoder, clf\n",
    "\n",
    "    # Ensure models and artifacts are loaded\n",
    "    if model is None or tokenizer is None or label_encoder is None or clf is None:\n",
    "        raise RuntimeError(\"Artifacts are not loaded. Please call `load_artifacts` first.\")\n",
    "\n",
    "    # Process the input abstract\n",
    "    model.eval()  # Ensure the model is in evaluation mode\n",
    "    encoded_input = tokenizer(abstract, padding=True, truncation=True, return_tensors='pt')\n",
    "    with torch.no_grad():\n",
    "        model_output = model(**encoded_input)\n",
    "    sentence_embedding = mean_pooling(model_output, encoded_input['attention_mask'])\n",
    "    sentence_embedding = F.normalize(sentence_embedding, p=2, dim=1).cpu().numpy()\n",
    "\n",
    "    # Predict the class label and probability\n",
    "    predicted_probabilities = clf.predict_proba(sentence_embedding)[0]\n",
    "    predicted_label = clf.predict(sentence_embedding)[0]\n",
    "    class_label = label_encoder.inverse_transform([predicted_label])[0]\n",
    "\n",
    "    # Return the results\n",
    "    return {\n",
    "        \"predicted_class_label\": class_label,\n",
    "        \"predicted_probabilities\": predicted_probabilities\n",
    "    }\n"
   ]
  },
  {
   "cell_type": "code",
   "execution_count": 50,
   "id": "98628f56",
   "metadata": {},
   "outputs": [
    {
     "name": "stdout",
     "output_type": "stream",
     "text": [
      "{'predicted_class_label': 'other', 'predicted_probabilities': array([4.81090622e-04, 9.99518909e-01])}\n"
     ]
    }
   ],
   "source": [
    "abstract_1 = '''\n",
    "Objective\n",
    "Hypoglycemia is a major concern in type 2 diabetes (T2DM), but little is known about its likelihood compared across common therapies. We compared the likelihood of hypoglycemia among metformin-treated patients with T2DM randomized to the addition of one of 4 common therapies.\n",
    "Research design & methods\n",
    "Randomized, controlled trial of 5,047 participants with T2DM of <10 years' duration, hemoglobin A1c (HbA1c) 6.8-8.5% (50.8-69.4 mmol/mol). Randomization to addition of glargine U100, glimepiride, liraglutide, or sitagliptin over 5.0 ± 1.3 (mean ± SD) years. HbA1c was measured quarterly; if a level >7.5% (>58.5 mmol/mol) was confirmed, rescue glargine and/or aspart insulin was added. We conducted a per-protocol analysis of 4,830, who attended at least one post-baseline visit and took at least one dose of assigned study medication. We assessed severe hypoglycemia events reported throughout the entire study. At quarterly visits, all participants were asked about hypoglycemic symptoms within the last 30 days, and those in the glargine and glimepiride groups were asked for any measured glucose <70 mg/dL (3.9 mmol/L) within this time period.\n",
    "Results\n",
    "While participants were taking their assigned medications, severe hypoglycemia occurred in 10 (0.8%), 16 (1.3%), 6 (0.5%), and 4 (0.3%), (p<0.05) and hypoglycemic symptoms in 659 (54.2%), 833 (68.3%), 375 (32.4%), and 361 (29.1%) of participants following randomization to glargine, glimepiride, liraglutide, and sitagliptin, respectively (p<0.001).\n",
    "Conclusions\n",
    "In metformin-treated patients with T2DM who add a second medication, hypoglycemia is most likely with addition of glimepiride, less with glargine, and least likely with liraglutide and sitagliptin.\n",
    "\n",
    "'''\n",
    "\n",
    "\n",
    "print(classify_abstract(abstract_1))\n"
   ]
  },
  {
   "cell_type": "code",
   "execution_count": null,
   "id": "296ef980",
   "metadata": {},
   "outputs": [],
   "source": []
  }
 ],
 "metadata": {
  "kernelspec": {
   "display_name": "transformers_env",
   "language": "python",
   "name": "transformers_env"
  },
  "language_info": {
   "codemirror_mode": {
    "name": "ipython",
    "version": 3
   },
   "file_extension": ".py",
   "mimetype": "text/x-python",
   "name": "python",
   "nbconvert_exporter": "python",
   "pygments_lexer": "ipython3",
   "version": "3.10.2"
  }
 },
 "nbformat": 4,
 "nbformat_minor": 5
}
