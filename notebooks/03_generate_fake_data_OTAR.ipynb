{
 "cells": [
  {
   "cell_type": "code",
   "execution_count": 12,
   "id": "5a602526",
   "metadata": {},
   "outputs": [],
   "source": [
    "import requests\n",
    "from bs4 import BeautifulSoup\n",
    "import lxml\n",
    "import re\n",
    "import matplotlib.pyplot as plt\n",
    "from tqdm import tqdm\n",
    "import pandas as pd\n",
    "\n",
    "pd.set_option('display.max_colwidth', 200)\n",
    "%matplotlib inline"
   ]
  },
  {
   "cell_type": "code",
   "execution_count": 17,
   "id": "771be234",
   "metadata": {},
   "outputs": [
    {
     "name": "stderr",
     "output_type": "stream",
     "text": [
      "100%|█████████████████████████████████████████████| 3/3 [00:08<00:00,  2.91s/it]\n"
     ]
    }
   ],
   "source": [
    "pmcids = []\n",
    "for i in tqdm(range(1, 4)):\n",
    "    URL = f\"https://europepmc.org/search?query=%28ANNOTATION_PROVIDER%3A%22DisGeNET%22%20AND%20ANNOTATION_PROVIDER%3A%22Europe%20PMC%22%20AND%20ANNOTATION_PROVIDER%3A%22HES-SO_SIB%22%20AND%20ANNOTATION_PROVIDER%3A%22Metagenomics%22%20AND%20ANNOTATION_PROVIDER%3A%22OntoGene%22%20AND%20ANNOTATION_PROVIDER%3A%22OpenTargets%22%20AND%20ANNOTATION_PROVIDER%3A%22PubTator_NCBI%22%29&page={i}?javascript_support=no\"\n",
    "    r = requests.get(URL)\n",
    "    soup = BeautifulSoup(r.text, 'html.parser')\n",
    "    pmcids_ = re.findall(r'PMC\\d+', str(soup))\n",
    "\n",
    "    pmcids.extend(pmcids_)  # Use extend to flatten the list\n",
    "\n",
    "# pmcids will now contain all PMCIDs extracted"
   ]
  },
  {
   "cell_type": "code",
   "execution_count": 20,
   "id": "c18e2f64",
   "metadata": {},
   "outputs": [
    {
     "data": {
      "text/plain": [
       "['PMC5810984',\n",
       " 'PMC5774238',\n",
       " 'PMC5671944',\n",
       " 'PMC5559326',\n",
       " 'PMC4902368',\n",
       " 'PMC4766352',\n",
       " 'PMC4877170',\n",
       " 'PMC4735314',\n",
       " 'PMC4713070',\n",
       " 'PMC4682834',\n",
       " 'PMC4690073',\n",
       " 'PMC4593004',\n",
       " 'PMC4539664',\n",
       " 'PMC4588721',\n",
       " 'PMC4567394',\n",
       " 'PMC4471120',\n",
       " 'PMC4539360',\n",
       " 'PMC4457031',\n",
       " 'PMC4460277',\n",
       " 'PMC4454778',\n",
       " 'PMC4363147',\n",
       " 'PMC6680266',\n",
       " 'PMC4583332',\n",
       " 'PMC4151597',\n",
       " 'PMC4747096',\n",
       " 'PMC5810984',\n",
       " 'PMC5774238',\n",
       " 'PMC5671944',\n",
       " 'PMC5559326',\n",
       " 'PMC4902368',\n",
       " 'PMC4766352',\n",
       " 'PMC4877170',\n",
       " 'PMC4735314',\n",
       " 'PMC4713070',\n",
       " 'PMC4682834',\n",
       " 'PMC4690073',\n",
       " 'PMC4593004',\n",
       " 'PMC4539664',\n",
       " 'PMC4588721',\n",
       " 'PMC4567394',\n",
       " 'PMC4471120',\n",
       " 'PMC4539360',\n",
       " 'PMC4457031',\n",
       " 'PMC4460277',\n",
       " 'PMC4454778',\n",
       " 'PMC4363147',\n",
       " 'PMC6680266',\n",
       " 'PMC4583332',\n",
       " 'PMC4151597',\n",
       " 'PMC4747096',\n",
       " 'PMC5810984',\n",
       " 'PMC5774238',\n",
       " 'PMC5671944',\n",
       " 'PMC5559326',\n",
       " 'PMC4902368',\n",
       " 'PMC4766352',\n",
       " 'PMC4877170',\n",
       " 'PMC4735314',\n",
       " 'PMC4713070',\n",
       " 'PMC4682834',\n",
       " 'PMC4690073',\n",
       " 'PMC4593004',\n",
       " 'PMC4539664',\n",
       " 'PMC4588721',\n",
       " 'PMC4567394',\n",
       " 'PMC4471120',\n",
       " 'PMC4539360',\n",
       " 'PMC4457031',\n",
       " 'PMC4460277',\n",
       " 'PMC4454778',\n",
       " 'PMC4363147',\n",
       " 'PMC6680266',\n",
       " 'PMC4583332',\n",
       " 'PMC4151597',\n",
       " 'PMC4747096']"
      ]
     },
     "execution_count": 20,
     "metadata": {},
     "output_type": "execute_result"
    }
   ],
   "source": [
    "pmcids"
   ]
  },
  {
   "cell_type": "code",
   "execution_count": 44,
   "id": "cb765e75",
   "metadata": {},
   "outputs": [],
   "source": [
    "import requests\n",
    "from bs4 import BeautifulSoup\n",
    "import lxml\n",
    "from collections import defaultdict\n",
    "import re\n",
    "import spacy\n",
    "\n",
    "# Load SpaCy model\n",
    "nlp = spacy.load(\"en_core_sci_sm\")\n",
    "\n",
    "\n",
    "titleMapsBody = {\n",
    "    'INTRO': ['introduction', 'background', 'related literature', 'literature review', 'objective', 'aim ', 'purpose of this study', 'study (purpose|aim|aims)', '(\\d)+\\. (purpose|aims|aim)', '(aims|aim|purpose) of the study', '(the|drug|systematic|book) review', 'review of literature', 'related work', 'recent advance'],\n",
    "    'METHODS': ['supplement', 'methods and materials', 'method', 'material', 'experimental procedure', 'implementation', 'methodology', 'treatment', 'statistical analysis', \"experimental\", '(\\d)+\\. experimental$', 'experimental (section|evaluation|design|approach|protocol|setting|set up|investigation|detail|part|pespective|tool)', \"the study\", '(\\d)+\\. the study$', \"protocol\", \"protocols\", 'study protocol', 'construction and content', 'experiment (\\d)+', '^experiments$', 'analysis', 'utility', 'design', '(\\d)+\\. theory$', \"theory\", 'theory and ', 'theory of '],\n",
    "    'RESULTS': ['result', 'finding', 'diagnosis'],\n",
    "    'DISCUSS': ['discussion', 'management of', '(\\d)+\\. management', 'safety and tolerability', 'limitations', 'perspective', 'commentary', '(\\d)+\\. comment'],\n",
    "    'CONCL': ['conclusion', 'key message', 'future', 'summary', 'recommendation', 'implications for clinical practice','concluding remark'],\n",
    "    'CASE': ['case study report', 'case report', 'case presentation', 'case description', 'case (\\d)+', '(\\d)+\\. case', 'case summary', 'case history'],\n",
    "    'ACK_FUND': ['funding', 'acknowledgement', 'acknowledgment', 'financial disclosure'],\n",
    "    'AUTH_CONT': ['author contribution', 'authors\\' contribution', 'author\\'s contribution'],\n",
    "    'COMP_INT': ['competing interest', 'conflict of interest', 'conflicts of interest', 'disclosure', 'decleration'],\n",
    "    'ABBR': ['abbreviation'],\n",
    "    'SUPPL': ['supplemental data', 'supplementary file', 'supplemental file', 'supplementary data', 'supplementary figure', 'supplemental figure', 'supporting information', 'supplemental file', 'supplemental material', 'supplementary material', 'supplement material', 'additional data files', 'supplemental information', 'supplementary information', 'supplemental information', 'supporting information', 'supplemental table', 'supplementary table', 'supplement table', 'supplementary material', 'supplemental material', 'supplement material', 'supplementary video']\n",
    "}\n",
    "\n",
    "titleExactMapsBody = {\n",
    "    'INTRO': [\"aim\", \"aims\", \"purpose\", \"purposes\", \"purpose/aim\", \"purpose of study\", \"review\", \"reviews\", \"minireview\"],\n",
    "    'METHODS': [\"experimental\", \"the study\", \"protocol\", \"protocols\"],\n",
    "    'DISCUSS': [\"management\", \"comment\", \"comments\"],\n",
    "    'CASE': [\"case\", \"cases\"]\n",
    "}\n",
    "\n",
    "titleMapsBack = {\n",
    "    'REF': ['reference', 'literature cited', 'references', 'bibliography'],\n",
    "    'ACK_FUND': ['funding', 'acknowledgement', 'acknowledgment', 'aknowledgement', 'acknowlegement', 'open access', 'financial support', 'grant', 'author note', 'financial disclosure'],\n",
    "    'ABBR': ['abbreviation', 'glossary'],\n",
    "    'COMP_INT': ['competing interest', 'conflict of interest', 'conflicts of interest', 'disclosure', 'decleration', 'conflits', 'interest'],\n",
    "    'SUPPL': ['supplementary', 'supporting information', 'supplemental', 'web extra material'],\n",
    "    'APPENDIX': ['appendix', 'appendices'],\n",
    "    'AUTH_CONT': ['author', 'contribution']\n",
    "}\n",
    "\n",
    "\n",
    "def categorize_section(title):\n",
    "    # Lowercase the title for consistency\n",
    "    title_lower = title.lower()\n",
    "\n",
    "    # Check if title exactly matches any pattern in titleExactMapsBody\n",
    "    for category, patterns in titleExactMapsBody.items():\n",
    "        if title_lower in patterns:\n",
    "            return category\n",
    "\n",
    "    # Check if title matches any pattern in titleMapsBody\n",
    "    for category, patterns in titleMapsBody.items():\n",
    "        for pattern in patterns:\n",
    "            if re.search(pattern, title_lower):\n",
    "                return category\n",
    "\n",
    "    # Check if title matches any pattern in titleMapsBack\n",
    "    for category, patterns in titleMapsBack.items():\n",
    "        for pattern in patterns:\n",
    "            if re.search(pattern, title_lower):\n",
    "                return category\n",
    "\n",
    "    # Default category if no match found\n",
    "    return 'OTHER'\n",
    "\n",
    "\n",
    "\n",
    "def extract_sections_and_sentences(soup):\n",
    "    sections_sentences = defaultdict(list)\n",
    "\n",
    "    # Iterate through each section in the document\n",
    "    for sec in soup.find_all('sec'):\n",
    "        # Extract section title\n",
    "        title = sec.find('title')\n",
    "        if title:\n",
    "            title_text = title.get_text().strip()\n",
    "            section_type = categorize_section(title_text)\n",
    "\n",
    "            # Extract sentences from paragraphs in the section\n",
    "            for p in sec.find_all('p'):\n",
    "                paragraph_text = p.get_text().strip()\n",
    "                doc = nlp(paragraph_text)\n",
    "                sentences = [sent.text.strip() for sent in doc.sents]\n",
    "                sections_sentences[section_type].extend(sentences)\n",
    "\n",
    "    return sections_sentences"
   ]
  },
  {
   "cell_type": "code",
   "execution_count": 45,
   "id": "98fc1d6d",
   "metadata": {},
   "outputs": [],
   "source": [
    "# # Main execution flow\n",
    "# pmcid = 'PMC1501050'\n",
    "# url = f\"https://www.ebi.ac.uk/europepmc/webservices/rest/{pmcid}/fullTextXML\"\n",
    "\n",
    "# try:\n",
    "#     response = requests.get(url)\n",
    "#     if response.status_code == 200:\n",
    "#         xml_content = response.content\n",
    "#         soup = BeautifulSoup(xml_content, 'lxml')\n",
    "\n",
    "#         # Extract sections and sentences\n",
    "#         sections_sentences = extract_sections_and_sentences(soup)\n",
    "\n",
    "#         # The dictionary 'sections_sentences' now contains the extracted data\n",
    "#         # You can add additional processing or output logic here\n",
    "#     else:\n",
    "#         print(f\"Failed to retrieve data: HTTP Status Code {response.status_code}\")\n",
    "# except requests.RequestException as e:\n",
    "#     print(f\"Request failed: {e}\")\n",
    "\n"
   ]
  },
  {
   "cell_type": "code",
   "execution_count": 49,
   "id": "9bc41e54",
   "metadata": {},
   "outputs": [],
   "source": [
    "import random\n",
    "\n",
    "\n",
    "# Function to extract the largest and second largest words from a sentence\n",
    "def get_largest_words(sentence):\n",
    "    words = sentence.split()\n",
    "    if len(words) > 1:\n",
    "        sorted_words = sorted(words, key=len, reverse=True)\n",
    "        return sorted_words[0], sorted_words[1]\n",
    "    elif words:\n",
    "        return words[0], None\n",
    "    return None, None\n",
    "\n",
    "# Function to generate fake data for a given PMCID\n",
    "def generate_fake_data(pmcid, sections_sentences):\n",
    "    fake_data = {\n",
    "        \"src\": \"PMC\",\n",
    "        \"id\": pmcid,\n",
    "        \"provider\": \"OpenTargets\",\n",
    "        \"anns\": []\n",
    "    }\n",
    "\n",
    "    annotation_types = [\"Gene Disease Relationship\", \"Gene Drug Relationship\", \"Disease Drug Relationship\"]\n",
    "    # Select 10 largest sentences from all sentences\n",
    "    all_sentences = [sentence for sentences in sections_sentences.values() for sentence in sentences]\n",
    "    largest_sentences = sorted(all_sentences, key=len, reverse=True)[:10]\n",
    "\n",
    "    for annotation_type in annotation_types:\n",
    "        num_sentences = random.randint(1, 10)  # Random number of sentences between 1 and 10\n",
    "        selected_sentences = random.sample(largest_sentences, min(num_sentences, len(largest_sentences)))\n",
    "\n",
    "        for sentence in selected_sentences:\n",
    "            largest_word, second_largest_word = get_largest_words(sentence)\n",
    "            section = [sec for sec, sentences in sections_sentences.items() if sentence in sentences][0]\n",
    "\n",
    "            annotation = {\n",
    "                \"type\": annotation_type,\n",
    "                \"exact\": sentence,\n",
    "                \"section\": section,\n",
    "                \"tags\": []\n",
    "            }\n",
    "\n",
    "            if largest_word:\n",
    "                annotation[\"tags\"].append({\n",
    "                    \"name\": largest_word,\n",
    "                    \"uri\": \"http://purl.uniprot.org/uniprot/Q13228\"  # Fake URI\n",
    "                })\n",
    "\n",
    "            if second_largest_word:\n",
    "                annotation[\"tags\"].append({\n",
    "                    \"name\": second_largest_word,\n",
    "                    \"uri\": \"http://purl.uniprot.org/uniprot/Q13228\"  # Fake URI\n",
    "                })\n",
    "\n",
    "            fake_data[\"anns\"].append(annotation)\n",
    "\n",
    "    return fake_data\n",
    "\n"
   ]
  },
  {
   "cell_type": "code",
   "execution_count": 51,
   "id": "184ccc43",
   "metadata": {},
   "outputs": [
    {
     "name": "stderr",
     "output_type": "stream",
     "text": [
      "Processing PMCIDs:   3%|▋                        | 2/75 [00:02<01:06,  1.09it/s]"
     ]
    },
    {
     "name": "stdout",
     "output_type": "stream",
     "text": [
      "Failed to retrieve data for PMCID PMC5774238: HTTP Status Code 404\n"
     ]
    },
    {
     "name": "stderr",
     "output_type": "stream",
     "text": [
      "Processing PMCIDs:   5%|█▎                       | 4/75 [00:05<01:34,  1.33s/it]"
     ]
    },
    {
     "name": "stdout",
     "output_type": "stream",
     "text": [
      "Failed to retrieve data for PMCID PMC5559326: HTTP Status Code 404\n"
     ]
    },
    {
     "name": "stderr",
     "output_type": "stream",
     "text": [
      "Processing PMCIDs:   9%|██▎                      | 7/75 [00:10<01:33,  1.37s/it]"
     ]
    },
    {
     "name": "stdout",
     "output_type": "stream",
     "text": [
      "Failed to retrieve data for PMCID PMC4877170: HTTP Status Code 404\n"
     ]
    },
    {
     "name": "stderr",
     "output_type": "stream",
     "text": [
      "Processing PMCIDs:  20%|████▊                   | 15/75 [00:28<01:54,  1.90s/it]"
     ]
    },
    {
     "name": "stdout",
     "output_type": "stream",
     "text": [
      "Failed to retrieve data for PMCID PMC4567394: HTTP Status Code 404\n"
     ]
    },
    {
     "name": "stderr",
     "output_type": "stream",
     "text": [
      "Processing PMCIDs:  33%|████████                | 25/75 [00:53<01:41,  2.02s/it]"
     ]
    },
    {
     "name": "stdout",
     "output_type": "stream",
     "text": [
      "Failed to retrieve data for PMCID PMC4747096: HTTP Status Code 404\n"
     ]
    },
    {
     "name": "stderr",
     "output_type": "stream",
     "text": [
      "Processing PMCIDs:  36%|████████▋               | 27/75 [00:55<01:08,  1.43s/it]"
     ]
    },
    {
     "name": "stdout",
     "output_type": "stream",
     "text": [
      "Failed to retrieve data for PMCID PMC5774238: HTTP Status Code 404\n"
     ]
    },
    {
     "name": "stderr",
     "output_type": "stream",
     "text": [
      "Processing PMCIDs:  39%|█████████▎              | 29/75 [00:57<01:02,  1.35s/it]"
     ]
    },
    {
     "name": "stdout",
     "output_type": "stream",
     "text": [
      "Failed to retrieve data for PMCID PMC5559326: HTTP Status Code 404\n"
     ]
    },
    {
     "name": "stderr",
     "output_type": "stream",
     "text": [
      "Processing PMCIDs:  43%|██████████▏             | 32/75 [01:01<00:49,  1.15s/it]"
     ]
    },
    {
     "name": "stdout",
     "output_type": "stream",
     "text": [
      "Failed to retrieve data for PMCID PMC4877170: HTTP Status Code 404\n"
     ]
    },
    {
     "name": "stderr",
     "output_type": "stream",
     "text": [
      "Processing PMCIDs:  53%|████████████▊           | 40/75 [01:18<00:55,  1.59s/it]"
     ]
    },
    {
     "name": "stdout",
     "output_type": "stream",
     "text": [
      "Failed to retrieve data for PMCID PMC4567394: HTTP Status Code 404\n"
     ]
    },
    {
     "name": "stderr",
     "output_type": "stream",
     "text": [
      "Processing PMCIDs:  67%|████████████████        | 50/75 [01:39<00:44,  1.78s/it]"
     ]
    },
    {
     "name": "stdout",
     "output_type": "stream",
     "text": [
      "Failed to retrieve data for PMCID PMC4747096: HTTP Status Code 404\n"
     ]
    },
    {
     "name": "stderr",
     "output_type": "stream",
     "text": [
      "Processing PMCIDs:  69%|████████████████▋       | 52/75 [01:42<00:31,  1.37s/it]"
     ]
    },
    {
     "name": "stdout",
     "output_type": "stream",
     "text": [
      "Failed to retrieve data for PMCID PMC5774238: HTTP Status Code 404\n"
     ]
    },
    {
     "name": "stderr",
     "output_type": "stream",
     "text": [
      "Processing PMCIDs:  72%|█████████████████▎      | 54/75 [01:44<00:26,  1.27s/it]"
     ]
    },
    {
     "name": "stdout",
     "output_type": "stream",
     "text": [
      "Failed to retrieve data for PMCID PMC5559326: HTTP Status Code 404\n"
     ]
    },
    {
     "name": "stderr",
     "output_type": "stream",
     "text": [
      "Processing PMCIDs:  76%|██████████████████▏     | 57/75 [01:48<00:21,  1.18s/it]"
     ]
    },
    {
     "name": "stdout",
     "output_type": "stream",
     "text": [
      "Failed to retrieve data for PMCID PMC4877170: HTTP Status Code 404\n"
     ]
    },
    {
     "name": "stderr",
     "output_type": "stream",
     "text": [
      "Processing PMCIDs:  87%|████████████████████▊   | 65/75 [02:05<00:17,  1.78s/it]"
     ]
    },
    {
     "name": "stdout",
     "output_type": "stream",
     "text": [
      "Failed to retrieve data for PMCID PMC4567394: HTTP Status Code 404\n"
     ]
    },
    {
     "name": "stderr",
     "output_type": "stream",
     "text": [
      "Processing PMCIDs: 100%|████████████████████████| 75/75 [02:27<00:00,  1.97s/it]"
     ]
    },
    {
     "name": "stdout",
     "output_type": "stream",
     "text": [
      "Failed to retrieve data for PMCID PMC4747096: HTTP Status Code 404\n",
      "Processing completed. Fake data written to ../data/fake_data.jsonl\n"
     ]
    },
    {
     "name": "stderr",
     "output_type": "stream",
     "text": [
      "\n"
     ]
    }
   ],
   "source": [
    "import json\n",
    "\n",
    "# File to write the JSON Lines\n",
    "output_file_path = '../data/fake_data.jsonl'\n",
    "\n",
    "with open(output_file_path, 'w') as outfile:\n",
    "    for pmcid in tqdm(pmcids, desc=\"Processing PMCIDs\"):\n",
    "        url = f\"https://www.ebi.ac.uk/europepmc/webservices/rest/{pmcid}/fullTextXML\"\n",
    "        try:\n",
    "            response = requests.get(url)\n",
    "            if response.status_code == 200:\n",
    "                xml_content = response.content\n",
    "                soup = BeautifulSoup(xml_content, 'lxml')\n",
    "\n",
    "                # Extract sections and sentences\n",
    "                sections_sentences = extract_sections_and_sentences(soup)\n",
    "\n",
    "                # Generate fake data for the PMCID\n",
    "                fake_data = generate_fake_data(pmcid, sections_sentences)\n",
    "\n",
    "                # Write the fake data as a JSON line\n",
    "                json_line = json.dumps(fake_data) + \"\\n\"\n",
    "                outfile.write(json_line)\n",
    "\n",
    "            else:\n",
    "                print(f\"Failed to retrieve data for PMCID {pmcid}: HTTP Status Code {response.status_code}\")\n",
    "        except requests.RequestException as e:\n",
    "            print(f\"Request failed for PMCID {pmcid}: {e}\")\n",
    "\n",
    "print(\"Processing completed. Fake data written to\", output_file_path)\n"
   ]
  },
  {
   "cell_type": "code",
   "execution_count": null,
   "id": "ddbf8a86",
   "metadata": {},
   "outputs": [],
   "source": []
  }
 ],
 "metadata": {
  "kernelspec": {
   "display_name": "Python 3 (ipykernel)",
   "language": "python",
   "name": "python3"
  },
  "language_info": {
   "codemirror_mode": {
    "name": "ipython",
    "version": 3
   },
   "file_extension": ".py",
   "mimetype": "text/x-python",
   "name": "python",
   "nbconvert_exporter": "python",
   "pygments_lexer": "ipython3",
   "version": "3.10.6"
  }
 },
 "nbformat": 4,
 "nbformat_minor": 5
}
